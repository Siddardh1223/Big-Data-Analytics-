{
  "nbformat": 4,
  "nbformat_minor": 0,
  "metadata": {
    "colab": {
      "provenance": []
    },
    "kernelspec": {
      "name": "python3",
      "display_name": "Python 3"
    },
    "language_info": {
      "name": "python"
    }
  },
  "cells": [
    {
      "cell_type": "code",
      "execution_count": null,
      "metadata": {
        "colab": {
          "base_uri": "https://localhost:8080/"
        },
        "id": "vhyX5TW0Ff88",
        "outputId": "5f343659-ea52-46be-8094-0ac608a815de"
      },
      "outputs": [
        {
          "output_type": "stream",
          "name": "stdout",
          "text": [
            "7\n",
            "{'Facebook', 'Google', 'Amazon', 'Apple', 'IBM', 'Microsoft', 'Oracle', 'Twitter'}\n",
            "{'Facebook', 'Google', 'Apple', 'IBM', 'Microsoft', 'Oracle', 'Twitter'}\n",
            "{19, 20, 22, 24, 25, 26, 27, 28}\n",
            "{19, 20, 22, 24, 25, 26}\n",
            "Is A is subset of B? : True\n",
            "Are A and B are disjoint sets? : False\n",
            "{19, 20, 22, 24, 25, 26, 27, 28}\n",
            "{19, 20, 22, 24, 25, 26, 27, 28}\n",
            "{27, 28}\n",
            "Age List Length =  7\n",
            "Age Set Length =  6\n"
          ]
        }
      ],
      "source": [
        "# Question 3\n",
        "\n",
        "it_companies = {'Facebook', 'Google', 'Microsoft','Apple','IBM', 'Oracle', 'Amazon'}\n",
        "A = {19,22,24,20,25,26}\n",
        "B = {19,22,20,25,26,24,28,27}\n",
        "age = [22,19,24,25,26,24.25,24]\n",
        "\n",
        "# lenght of the set it_companies.\n",
        "x = len(it_companies)\n",
        "print(x)\n",
        "\n",
        "# Adding \"Twitter\" to the it_companies set.\n",
        "it_companies.add('Twitter')\n",
        "print(it_companies)\n",
        "\n",
        "# Remove \"Amazon\" from the it_companies set.\n",
        "it_companies.remove('Amazon')\n",
        "print(it_companies)\n",
        "\n",
        "# The only difference between remove and discard is 'remove' function will raise an error if the particular item is not found. Whereas in 'discard() method no error is generated.\n",
        "\n",
        "# Joining two sets A and B\n",
        "C = A.union(B)\n",
        "print(C)\n",
        "\n",
        "# Finding Intersection of A and B sets\n",
        "print(A.intersection(B))\n",
        "\n",
        "# Finding whether A is subset of B\n",
        "is_subset = A.issubset(B)\n",
        "print(\"Is A is subset of B? :\", is_subset)\n",
        "\n",
        "#Finding whether A and B are disjoint sets or not\n",
        "is_disjoint = A.isdisjoint(B)\n",
        "print(\"Are A and B are disjoint sets? :\", is_disjoint)\n",
        "\n",
        "# Joining A set with B and B set with A\n",
        "up1 = A.union(B)\n",
        "up2 = B.union(A)\n",
        "print(up1)\n",
        "print(up2)\n",
        "\n",
        "# Finding the symmetric difference between A and B sets\n",
        "sys = A.symmetric_difference(B)\n",
        "print(sys)\n",
        "\n",
        "# Deleting all the sets\n",
        "del it_companies\n",
        "del A\n",
        "del B\n",
        "\n",
        "# Converting Ages into a set and compare the lenght of the list and the set\n",
        "age_set = set(age)\n",
        "age_list_len = len(age)\n",
        "age_set_len = len(age_set)\n",
        "print(\"Age List Length = \", age_list_len)\n",
        "print(\"Age Set Length = \", age_set_len)"
      ]
    },
    {
      "cell_type": "code",
      "source": [
        "# Question 1\n",
        "import statistics\n",
        "\n",
        "ages = [19,22,19,24,20,25,26,24,25,24]\n",
        "# Sorting the list of ages\n",
        "ages.sort()\n",
        "print(ages)\n",
        "# Finding the minimum and maximum age in the list.\n",
        "min_age = min(ages)\n",
        "max_age = max(ages)\n",
        "print(min_age)\n",
        "print(max_age)\n",
        "\n",
        "# Adding the minimum age and the maximum age again to the list\n",
        "ages.append(min_age)\n",
        "ages.append(max_age)\n",
        "print(ages)\n",
        "\n",
        "# Finding the median age of the ages list\n",
        "print(\"Median of ages = \" ,(statistics.median(ages)))\n",
        "\n",
        "\n",
        "# Finding the average age of the list.\n",
        "average_list = sum(ages)/len(ages)\n",
        "print(average_list)\n",
        "\n",
        "# Finding the range of the ages\n",
        "range_ages = max_age - min_age\n",
        "print(range_ages)\n",
        "\n"
      ],
      "metadata": {
        "colab": {
          "base_uri": "https://localhost:8080/"
        },
        "id": "QK_u6u2gMCs2",
        "outputId": "cda9ccf6-8420-4bc3-8e2e-994be749b3b3"
      },
      "execution_count": null,
      "outputs": [
        {
          "output_type": "stream",
          "name": "stdout",
          "text": [
            "[19, 19, 20, 22, 24, 24, 24, 25, 25, 26]\n",
            "19\n",
            "26\n",
            "[19, 19, 20, 22, 24, 24, 24, 25, 25, 26, 19, 26]\n",
            "Median of ages =  24.0\n",
            "22.75\n",
            "7\n"
          ]
        }
      ]
    },
    {
      "cell_type": "code",
      "source": [
        "# Question 2\n",
        "\n",
        "# Creating an empty dictionary named \"dog\"\n",
        "dog = {}\n",
        "\n",
        "# Adding name, color, breed, legs, and age to the dog dictionary\n",
        "dog['Name'] = 'Whiskey'\n",
        "dog['Color'] = 'White and brown'\n",
        "dog['Breed'] = 'Shitzu'\n",
        "dog['Legs'] = 4\n",
        "dog['age'] = 3\n",
        "\n",
        "# Creating a student dictionary\n",
        "student_details = {'first_name':'Siddardh','last_name':'Arigela','gender':'Male','age':20,'marital_status':'Single','skills':['Web Development','Python'],'country':'India','city':'Hyderabad','address':'Habsiguda'}\n",
        "\n",
        "# Finding the length of the dictionary of student_details\n",
        "student_details_len = len(student_details)\n",
        "print(student_details_len)\n",
        "\n",
        "# Getting the value of 'skills' from student_details dictionary and checking the data type of it.\n",
        "s_value = student_details['skills']\n",
        "print(s_value)\n",
        "s_value_datatype = type(s_value)\n",
        "print(s_value_datatype)\n",
        "\n",
        "# Modifying the skills values by adding one or more skills in student_details dictionary\n",
        "modified_skills = student_details['skills'].extend(['Business Intelligence tools','SQL'])\n",
        "print(student_details)\n",
        "\n",
        "# Getting the list of keys from student_details dictionary\n",
        "keys_list = list(student_details.keys())\n",
        "print(keys_list)\n",
        "\n",
        "# Getting the list of values from student_details dictionary\n",
        "values_list = list(student_details.values())\n",
        "print(values_list)"
      ],
      "metadata": {
        "colab": {
          "base_uri": "https://localhost:8080/"
        },
        "id": "WRiyEvS-O5zo",
        "outputId": "ea66d264-df57-4030-8a45-e8c0e7c37542"
      },
      "execution_count": 8,
      "outputs": [
        {
          "output_type": "stream",
          "name": "stdout",
          "text": [
            "9\n",
            "['Web Development', 'Python']\n",
            "<class 'list'>\n",
            "{'first_name': 'Siddardh', 'last_name': 'Arigela', 'gender': 'Male', 'age': 20, 'marital_status': 'Single', 'skills': ['Web Development', 'Python', 'Business Intelligence tools', 'SQL'], 'country': 'India', 'city': 'Hyderabad', 'address': 'Habsiguda'}\n",
            "['first_name', 'last_name', 'gender', 'age', 'marital_status', 'skills', 'country', 'city', 'address']\n",
            "['Siddardh', 'Arigela', 'Male', 20, 'Single', ['Web Development', 'Python', 'Business Intelligence tools', 'SQL'], 'India', 'Hyderabad', 'Habsiguda']\n"
          ]
        }
      ]
    },
    {
      "cell_type": "code",
      "source": [
        "# Question 4\n",
        "\n",
        "# Creating a class named \"Employee\"\n",
        "class Employee:\n",
        "  empCount = 0 # Creating a Data member to count the number of employees\n",
        "  avg = 0\n",
        "\n",
        "  # Creating a default constructor to initialize name, family, salary, and department.\n",
        "  def __init__(self, name, family, salary, department):\n",
        "    self.name = name\n",
        "    self.family = family\n",
        "    self.salary = salary\n",
        "    self.department = department\n",
        "    Employee.empCount += 1   # Here I am incrementing employee count whenever a new employee is added.\n",
        "    print(name, family, salary, department)\n",
        "\n",
        "  # Creating a function called 'Average Salary.\n",
        "  def Average_salary(self, employees):\n",
        "        total_salary = sum(emp.salary for emp in employees)\n",
        "        return total_salary / len(employees)\n",
        "\n",
        "# Creating a class named 'Fulltime Employee' and inherting the properties of Employee Class\n",
        "class Fulltime_Employee(Employee):\n",
        "  def __init__(self, name, family, salary, department):\n",
        "    super().__init__(name, family, salary, department)\n",
        "\n",
        "# Creating the instances of Employees and the Fulltime Employees class.\n",
        "emp1 = Employee(\"Siddardh Arigela\",\"Son\",50000,\"Retail Manager\")\n",
        "emp2 = Employee(\"Sanjana Arigela\",\"Daughter\",40000,\"HR\")\n",
        "emp3 = Fulltime_Employee(\"Sateesh Arigela\",\"Father\",90000,\"Project Leader\")\n",
        "emp4 = Fulltime_Employee(\"Swapna Arigela\",\"Mother\",80000,\"Graphics Designer\")\n",
        "\n",
        "print()\n",
        "# Printing the total count of the employees using the data member\n",
        "print(\"Total number of Employees :\", Employee.empCount)"
      ],
      "metadata": {
        "id": "95YMRIj7RfA6",
        "colab": {
          "base_uri": "https://localhost:8080/"
        },
        "outputId": "6708313d-064a-44bd-de8c-0a87f580b74e"
      },
      "execution_count": 23,
      "outputs": [
        {
          "output_type": "stream",
          "name": "stdout",
          "text": [
            "Siddardh Arigela Son 50000 Retail Manager\n",
            "Sanjana Arigela Daughter 40000 HR\n",
            "Sateesh Arigela Father 90000 Project Leader\n",
            "Swapna Arigela Mother 80000 Graphics Designer\n",
            "\n",
            "Total number of Employees : 4\n"
          ]
        }
      ]
    }
  ]
}