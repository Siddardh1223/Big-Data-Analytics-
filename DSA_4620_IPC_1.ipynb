{
  "nbformat": 4,
  "nbformat_minor": 0,
  "metadata": {
    "colab": {
      "provenance": [],
      "gpuType": "T4"
    },
    "kernelspec": {
      "name": "python3",
      "display_name": "Python 3"
    },
    "language_info": {
      "name": "python"
    },
    "accelerator": "GPU"
  },
  "cells": [
    {
      "cell_type": "code",
      "execution_count": null,
      "metadata": {
        "colab": {
          "base_uri": "https://localhost:8080/"
        },
        "id": "P0_SoqIBCEFD",
        "outputId": "e480334f-896c-4826-8b55-878b7c76f76d"
      },
      "outputs": [
        {
          "output_type": "stream",
          "name": "stdout",
          "text": [
            "Enter grade of the student :85\n",
            "B grade\n"
          ]
        }
      ],
      "source": [
        "# Python program to display grade of the students:\n",
        "\n",
        "marks_percentage = float(input(\"Enter grade of the student :\"))   # making a user input to enter the marks percentage\n",
        "\n",
        "if (marks_percentage>=90):\n",
        "    print(\"A grade\")          # if marks percentage is greater than 90 then it prints A grade.\n",
        "elif (marks_percentage>=80):\n",
        "    print(\"B grade\")          # if marks percentage is greater than 80 then it prints B grade.\n",
        "elif (marks_percentage>=70):\n",
        "    print(\"C grade\")          # if marks percentage is greater than 70 then it prints C grade.\n",
        "elif (marks_percentage>=60):\n",
        "    print(\"D grade\")          # if marks percentage is greater than 60 then it prints D grade.\n",
        "else:\n",
        "    print(\"Failed\")           # if marks percentage is less than 60 then it prints \"Failed\"."
      ]
    },
    {
      "cell_type": "code",
      "source": [
        "# Python program to perform arthmetic operations:\n",
        "\n",
        "# Taking a user input of two integers:\n",
        "num1 = int(input(\"Enter integer 1 : \"))\n",
        "num2 = int(input(\"Enter integer 2 : \"))\n",
        "\n",
        "# Performing all the arithmetic operations:\n",
        "\n",
        "add = num1 + num2\n",
        "print(\"Addition of two numbers is :\" ,add)\n",
        "\n",
        "sub = num1 - num2\n",
        "print(\"Subtraction of two numbers is :\" ,sub)\n",
        "\n",
        "mul = num1 * num2\n",
        "print(\"Multiplication of two numbers is :\" ,mul)\n",
        "\n",
        "div = num1 / num2\n",
        "print(\"Division of two numbers is :\" ,div)"
      ],
      "metadata": {
        "colab": {
          "base_uri": "https://localhost:8080/"
        },
        "id": "26zW_UtWGpNE",
        "outputId": "b3eff584-2cfe-407c-921f-7ea7995fc0df"
      },
      "execution_count": null,
      "outputs": [
        {
          "output_type": "stream",
          "name": "stdout",
          "text": [
            "Enter integer 1 : 12\n",
            "Enter integer 2 : 1\n",
            "Addition of two numbers is : 13\n",
            "Subtraction of two numbers is : 11\n",
            "Multiplication of two numbers is : 12\n",
            "Division of two numbers is : 12.0\n"
          ]
        }
      ]
    },
    {
      "cell_type": "code",
      "source": [
        "# Python Program to delete at least 2 characters in the input string and reverse the resultant string\n",
        "\n",
        "x = \"Python\"\n",
        "b = x[0:4] # Using slicing technique to delete atleast two characters in the word\n",
        "print(b)\n",
        "\n",
        "a = b[::-1] # Again using slicing technique  to reverse the resultant string.\n",
        "print(a)\n"
      ],
      "metadata": {
        "colab": {
          "base_uri": "https://localhost:8080/"
        },
        "id": "RCD1k3PtH1VI",
        "outputId": "0d26ea8b-72d2-4c74-bb84-740c60894726"
      },
      "execution_count": null,
      "outputs": [
        {
          "output_type": "stream",
          "name": "stdout",
          "text": [
            "Pyth\n",
            "htyP\n"
          ]
        }
      ]
    },
    {
      "cell_type": "code",
      "source": [
        "# Write a program that accepts a sentence and replace each occurrence of ‘python’ with ‘pythons’.\n",
        "\n",
        "\n",
        "# Creating a function named replace_python\n",
        "def replace_python(sentence):\n",
        "    new_sen = sentence.replace('python', 'pythons') # Using Replace function\n",
        "    return new_sen\n",
        "\n",
        "input1 = input(\"Enter a sentence: \")\n",
        "result = replace_python(input1)\n",
        "print(\"Modified sentence:\", result)\n"
      ],
      "metadata": {
        "colab": {
          "base_uri": "https://localhost:8080/"
        },
        "id": "kHNcopRdLwYO",
        "outputId": "30051db5-456c-431d-a844-a5a3c6bb27af"
      },
      "execution_count": null,
      "outputs": [
        {
          "output_type": "stream",
          "name": "stdout",
          "text": [
            "Enter a sentence: This is python\n",
            "Modified sentence: This is pythons\n"
          ]
        }
      ]
    }
  ]
}