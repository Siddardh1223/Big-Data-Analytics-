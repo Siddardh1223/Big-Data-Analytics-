{
  "nbformat": 4,
  "nbformat_minor": 0,
  "metadata": {
    "colab": {
      "provenance": []
    },
    "kernelspec": {
      "name": "python3",
      "display_name": "Python 3"
    },
    "language_info": {
      "name": "python"
    }
  },
  "cells": [
    {
      "cell_type": "code",
      "execution_count": null,
      "metadata": {
        "colab": {
          "base_uri": "https://localhost:8080/"
        },
        "id": "7sMyvJahIWP5",
        "outputId": "aaeb5e76-f6f2-4d0e-f39a-9878ec34e6b5"
      },
      "outputs": [
        {
          "output_type": "stream",
          "name": "stdout",
          "text": [
            "[ 2  4  7 10  4 15  2  3 19  6  4 18  9 16 13]\n",
            "\n",
            "[[ 2  4  7 10  4]\n",
            " [15  2  3 19  6]\n",
            " [ 4 18  9 16 13]]\n",
            "\n",
            "[[ 2  4  7  0  4]\n",
            " [15  2  3  0  6]\n",
            " [ 4  0  9 16 13]]\n"
          ]
        }
      ],
      "source": [
        "# Importing the Numpy package to generate random integers.\n",
        "import numpy as np\n",
        "# Creating a varianble named \"random_vec\".\n",
        "# Here I am using random function to generate random integers with a certain range.\n",
        "# Here my range is 15.\n",
        "random_vec = np.random.randint(1, 21, size = 15)\n",
        "# Printing the array\n",
        "print(random_vec)\n",
        "print()\n",
        "\n",
        "# Reshaping the size of Random array to 3 by 5.\n",
        "# Here we use the Reshape() method to reshape the array.\n",
        "reshaped_vec = random_vec.reshape(3,5)\n",
        "print(reshaped_vec)\n",
        "print()\n",
        "\n",
        "# Replacing the max value in each row with 0 in the reshaped vector.\n",
        "reshaped_vec = np.where(reshaped_vec == reshaped_vec.max(axis = 1, keepdims = True), 0, reshaped_vec)\n",
        "# Printing the reshaped vector with the modified values.\n",
        "print(reshaped_vec)"
      ]
    },
    {
      "cell_type": "code",
      "source": [
        "# Importing the Numpy Package\n",
        "import numpy as np\n",
        "# Now Creating a 2D array of size 4X3 which is composed of 4 byte integer elements\n",
        "arr = np.array([[1,2,3,], [4,5,6], [7,8,9], [10,11,12]],np.int32)\n",
        "# Printing the array\n",
        "print(arr)\n",
        "\n",
        "print()\n",
        "\n",
        "# Printing the Shape of the created array\n",
        "print(\"The Shape of the array is: \", arr.shape)\n",
        "\n",
        "print()\n",
        "\n",
        "# Printing the type of array\n",
        "print(\"The Type of the Array is: \", type(arr))\n",
        "\n",
        "print()\n",
        "\n",
        "# Printing the data type of the array\n",
        "print(\"The Data Type pf the array is:\", arr.dtype)\n"
      ],
      "metadata": {
        "colab": {
          "base_uri": "https://localhost:8080/"
        },
        "id": "IPw5qM9NLlD1",
        "outputId": "c9ec7ec2-84b6-402d-b8ff-5790d4cd0eb1"
      },
      "execution_count": null,
      "outputs": [
        {
          "output_type": "stream",
          "name": "stdout",
          "text": [
            "[[ 1  2  3]\n",
            " [ 4  5  6]\n",
            " [ 7  8  9]\n",
            " [10 11 12]]\n",
            "\n",
            "The Shape of the array is:  (4, 3)\n",
            "\n",
            "The Type of the Array is:  <class 'numpy.ndarray'>\n",
            "\n",
            "The Data Type pf the array is: int32\n"
          ]
        }
      ]
    },
    {
      "cell_type": "code",
      "source": [
        "# Importing the Numpy Package\n",
        "import numpy as np\n",
        "# Creating an array named \"Random_Array\"\n",
        "Random_Array = np.array([[0,1,2], [3,4,5]])\n",
        "print(Random_Array)\n",
        "# Creating an another variable named \"Diagonal_Add\"\n",
        "Diagonal_Add = np.trace(Random_Array)\n",
        "# Here I used the trace method in order to calculate the sum of the diagonal elements in the given array.\n",
        "\n",
        "# Printing the sum of diagonal elements\n",
        "print(\"The sum of the diagonal elements of the given array is : \", Diagonal_Add)"
      ],
      "metadata": {
        "colab": {
          "base_uri": "https://localhost:8080/"
        },
        "id": "___RgPXhOk2-",
        "outputId": "d85369bf-79b9-4dcc-ad5b-60de04a35a6d"
      },
      "execution_count": null,
      "outputs": [
        {
          "output_type": "stream",
          "name": "stdout",
          "text": [
            "[[0 1 2]\n",
            " [3 4 5]]\n",
            "The sum of the diagonal elements of the given array is :  4\n"
          ]
        }
      ]
    },
    {
      "cell_type": "code",
      "source": [
        "# Importing the Numpy Package\n",
        "import numpy as np\n",
        "# Importing the nan function fromm numpy package\n",
        "from numpy import nan\n",
        "# Declaring an array\n",
        "array1 = np.array([[4, 2, nan, 1], [11, 12, 14, 9], [5, nan, 1, nan]])\n",
        "# Finding the missing data in the declared array\n",
        "missing_data = np.isnan(array1)\n",
        "# Here I am using the isnan() function to identify the missing elements in the declared array\n",
        "# Printing the Boolena output of the missing data\n",
        "print(\"The Missing Data is the declared variable is:\\n\", missing_data)"
      ],
      "metadata": {
        "colab": {
          "base_uri": "https://localhost:8080/"
        },
        "id": "wUUCiFPxPFAA",
        "outputId": "f15e87ec-9cef-42ca-86be-29c0b294e469"
      },
      "execution_count": null,
      "outputs": [
        {
          "output_type": "stream",
          "name": "stdout",
          "text": [
            "The Missing Data is the declared variable is:\n",
            " [[False False  True False]\n",
            " [False False False False]\n",
            " [False  True False  True]]\n"
          ]
        }
      ]
    },
    {
      "cell_type": "code",
      "source": [
        "# Importing the Numpy Package\n",
        "import numpy as np\n",
        "# Creating random array of Even Integers range from 10 to 70\n",
        "even_array = np.arange(10,71,2)\n",
        "print(\"Even Array is:\\n\", even_array)\n",
        "# Creating random array of Odd Integers range from 10 to 70\n",
        "odd_array = np.arange(11,71,2)\n",
        "print(\"Even Array is:\\n\", odd_array)\n",
        "\n",
        "# To perform at-least three element-wise mathematical operations using two arrays of the same size.\n",
        "arr1 = np.array([1,2,3,4])\n",
        "arr2 = np.array([5,6,7,8])\n",
        "print(\"Addition of two arrays = \\n\", arr1+arr2)\n",
        "print(\"Subtraction of two arrays = \\n\", arr2-arr1)\n",
        "print(\"Multiplication of two arrays = \\n\", arr1*arr2)\n",
        "\n",
        "\n",
        "# Create the given array\n",
        "arr = np.array([[5.54, 3.38, 7.99],\n",
        "                  [3.54, 4.38, 6.99],\n",
        "                  [1.54, 2.39, 9.29]])\n",
        "\n",
        "# Sort the array by rows in ascending order\n",
        "sorted_by_row = np.sort(arr, axis=1)\n",
        "\n",
        "# Sort the array by columns in ascending order\n",
        "sorted_by_column = np.sort(arr, axis=0)\n",
        "\n",
        "print(\"Sorted by Row:\")\n",
        "print(sorted_by_row)\n",
        "print(\"\\nSorted by Column:\")\n",
        "print(sorted_by_column)"
      ],
      "metadata": {
        "colab": {
          "base_uri": "https://localhost:8080/"
        },
        "id": "D3PY-92VRvSf",
        "outputId": "f96929a5-8a87-491d-d89e-8b5462b7f57d"
      },
      "execution_count": null,
      "outputs": [
        {
          "output_type": "stream",
          "name": "stdout",
          "text": [
            "Even Array is:\n",
            " [10 12 14 16 18 20 22 24 26 28 30 32 34 36 38 40 42 44 46 48 50 52 54 56\n",
            " 58 60 62 64 66 68 70]\n",
            "Even Array is:\n",
            " [11 13 15 17 19 21 23 25 27 29 31 33 35 37 39 41 43 45 47 49 51 53 55 57\n",
            " 59 61 63 65 67 69]\n",
            "Addition of two arrays = \n",
            " [ 6  8 10 12]\n",
            "Subtraction of two arrays = \n",
            " [4 4 4 4]\n",
            "Multiplication of two arrays = \n",
            " [ 5 12 21 32]\n"
          ]
        }
      ]
    }
  ]
}